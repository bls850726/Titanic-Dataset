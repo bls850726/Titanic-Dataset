{
 "cells": [
  {
   "cell_type": "code",
   "execution_count": 1,
   "id": "6585ed33",
   "metadata": {},
   "outputs": [
    {
     "name": "stderr",
     "output_type": "stream",
     "text": [
      "D:\\Python\\envs\\keras\\lib\\site-packages\\scipy\\__init__.py:146: UserWarning: A NumPy version >=1.16.5 and <1.23.0 is required for this version of SciPy (detected version 1.23.3\n",
      "  warnings.warn(f\"A NumPy version >={np_minversion} and <{np_maxversion}\"\n"
     ]
    }
   ],
   "source": [
    "import numpy as np\n",
    "import pandas as pd\n",
    "from keras.models import Sequential\n",
    "from keras.models import load_model\n",
    "\n",
    "np.random.seed(7)"
   ]
  },
  {
   "cell_type": "code",
   "execution_count": 2,
   "id": "5ed194af",
   "metadata": {},
   "outputs": [],
   "source": [
    "df_test = pd.read_csv(\"./titanic_test.csv\")\n",
    "dataset_test = df_test.values"
   ]
  },
  {
   "cell_type": "code",
   "execution_count": 3,
   "id": "31dd2b34",
   "metadata": {},
   "outputs": [],
   "source": [
    "X_test = dataset_test[:, 0:9]\n",
    "Y_test = dataset_test[:, 9]"
   ]
  },
  {
   "cell_type": "code",
   "execution_count": 4,
   "id": "0cd78699",
   "metadata": {},
   "outputs": [],
   "source": [
    "X_test -= X_test.mean(axis=0)\n",
    "X_test /= X_test.std(axis=0)"
   ]
  },
  {
   "cell_type": "code",
   "execution_count": 5,
   "id": "7357fd3e",
   "metadata": {},
   "outputs": [],
   "source": [
    "model = Sequential()\n",
    "model = load_model(\"titanic.h5\")"
   ]
  },
  {
   "cell_type": "code",
   "execution_count": 6,
   "id": "8c5432e2",
   "metadata": {},
   "outputs": [],
   "source": [
    "model.compile(loss=\"binary_crossentropy\", optimizer=\"adam\",\n",
    "              metrics=[\"accuracy\"])"
   ]
  },
  {
   "cell_type": "code",
   "execution_count": 7,
   "id": "cd11a798",
   "metadata": {},
   "outputs": [
    {
     "name": "stdout",
     "output_type": "stream",
     "text": [
      "9/9 [==============================] - 0s 3ms/step - loss: 0.4897 - accuracy: 0.7992\n",
      "測試資料集的準確度 = 0.80\n"
     ]
    }
   ],
   "source": [
    "loss, accuracy = model.evaluate(X_test, Y_test)\n",
    "print(\"測試資料集的準確度 = {:.2f}\".format(accuracy))"
   ]
  },
  {
   "cell_type": "code",
   "execution_count": 21,
   "id": "d1eebd30",
   "metadata": {},
   "outputs": [
    {
     "name": "stdout",
     "output_type": "stream",
     "text": [
      "9/9 [==============================] - 0s 1ms/step\n",
      "[ True  True False  True  True  True  True False False  True  True False\n",
      " False  True  True False False  True False  True False  True False  True\n",
      " False False  True  True False False  True False False  True False  True\n",
      " False False False False False False  True False  True False False  True\n",
      " False  True  True  True False False  True  True  True  True False False\n",
      " False  True  True  True False  True  True False False False  True False\n",
      " False False  True  True False  True False False  True  True False  True\n",
      " False False  True  True False False False False False False False  True\n",
      " False False  True False  True False False False False  True  True  True\n",
      " False False False False  True  True False False False False False False\n",
      "  True False  True False False False  True  True  True False False False\n",
      " False False False False False False False False  True False False False\n",
      " False  True False  True False False False False False False False False\n",
      " False False False False False  True False False False False False False\n",
      " False  True False False  True  True False False False False False False\n",
      " False False False  True False False False False False  True False False\n",
      " False False False False  True False  True False False False False False\n",
      " False False False  True  True False False False False False  True  True\n",
      " False False  True False False False False False False  True  True False\n",
      " False False False False False False False False False False False False\n",
      "  True False False False False False False  True False False False False\n",
      " False False  True False False False False False False  True False False]\n",
      "[0 1 0 1 1 1 1 1 0 1 1 1 0 1 1 1 1 1 0 0 0 1 0 1 0 1 1 1 0 0 1 0 1 1 0 1 0\n",
      " 1 0 0 0 0 1 0 1 0 1 1 0 1 1 1 0 0 1 1 1 1 0 0 0 0 1 1 0 0 1 0 0 0 1 0 0 0\n",
      " 1 1 0 1 0 0 1 1 0 1 0 0 1 0 0 0 0 0 0 0 0 1 0 0 1 0 0 1 0 0 0 1 1 1 0 0 1\n",
      " 0 1 1 0 0 1 1 0 0 1 1 1 0 0 0 1 1 1 0 1 0 0 1 0 0 1 0 1 0 1 1 1 0 0 0 0 0\n",
      " 0 0 0 0 0 1 0 0 1 0 1 0 0 1 0 0 0 0 0 1 0 0 0 0 1 1 0 0 0 0 0 0 0 1 0 1 1\n",
      " 0 1 0 0 0 0 0 0 1 0 1 0 0 0 0 1 0 0 0 1 0 1 0 0 0 0 0 0 0 1 1 0 1 1 0 0 0\n",
      " 0 0 0 0 1 0 0 0 0 0 0 0 0 0 0 0 1 0 1 0 0 0 0 0 1 0 0 0 0 0 0 0 0 0 0 0 1\n",
      " 0 0 0 0 0]\n"
     ]
    }
   ],
   "source": [
    "Y_pred = model.predict(X_test)>0.5\n",
    "print(Y_pred[:,0])\n",
    "print(Y_test.astype(int))"
   ]
  },
  {
   "cell_type": "code",
   "execution_count": 22,
   "id": "088347ed",
   "metadata": {},
   "outputs": [
    {
     "name": "stdout",
     "output_type": "stream",
     "text": [
      "predict  False  True\n",
      "label               \n",
      "0          151    18\n",
      "1           35    60\n"
     ]
    }
   ],
   "source": [
    "tb = pd.crosstab(Y_test.astype(int), Y_pred[:,0],\n",
    "                 rownames=[\"label\"], colnames=[\"predict\"])\n",
    "print(tb)"
   ]
  },
  {
   "cell_type": "markdown",
   "id": "fa592dab",
   "metadata": {},
   "source": [
    "## 共有35是死亡預測為生存，有18位生存預測為死亡"
   ]
  },
  {
   "cell_type": "code",
   "execution_count": null,
   "id": "27d0d515",
   "metadata": {},
   "outputs": [],
   "source": []
  }
 ],
 "metadata": {
  "kernelspec": {
   "display_name": "Python 3 (ipykernel)",
   "language": "python",
   "name": "python3"
  },
  "language_info": {
   "codemirror_mode": {
    "name": "ipython",
    "version": 3
   },
   "file_extension": ".py",
   "mimetype": "text/x-python",
   "name": "python",
   "nbconvert_exporter": "python",
   "pygments_lexer": "ipython3",
   "version": "3.8.13"
  }
 },
 "nbformat": 4,
 "nbformat_minor": 5
}
