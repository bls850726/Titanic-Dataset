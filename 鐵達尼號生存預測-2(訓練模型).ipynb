{
 "cells": [
  {
   "cell_type": "code",
   "execution_count": 12,
   "id": "b3ebd1e5",
   "metadata": {},
   "outputs": [],
   "source": [
    "import numpy as np\n",
    "import pandas as pd\n",
    "from keras.models import Sequential\n",
    "from keras.layers import Dense\n",
    "\n",
    "np.random.seed(7)"
   ]
  },
  {
   "cell_type": "markdown",
   "id": "963949e3",
   "metadata": {},
   "source": [
    "### 載入訓練集和測試集"
   ]
  },
  {
   "cell_type": "code",
   "execution_count": 13,
   "id": "ded2a04e",
   "metadata": {},
   "outputs": [],
   "source": [
    "df_train = pd.read_csv(\"./titanic_train.csv\")\n",
    "df_test = pd.read_csv(\"./titanic_test.csv\")"
   ]
  },
  {
   "cell_type": "code",
   "execution_count": 14,
   "id": "6f7944d6",
   "metadata": {},
   "outputs": [],
   "source": [
    "dataset_train = df_train.values\n",
    "dataset_test = df_test.values"
   ]
  },
  {
   "cell_type": "markdown",
   "id": "bfbf6e00",
   "metadata": {},
   "source": [
    "### 切割前9個欄位為特徵資料，第10個欄位為標籤資料"
   ]
  },
  {
   "cell_type": "code",
   "execution_count": 15,
   "id": "36dc8670",
   "metadata": {},
   "outputs": [],
   "source": [
    "X_train = dataset_train[:, 0:9]\n",
    "Y_train = dataset_train[:, 9]\n",
    "X_test = dataset_test[:, 0:9]\n",
    "Y_test = dataset_test[:, 9]"
   ]
  },
  {
   "cell_type": "markdown",
   "id": "b7173d38",
   "metadata": {},
   "source": [
    "### 執行標準化"
   ]
  },
  {
   "cell_type": "code",
   "execution_count": 16,
   "id": "0132ec1a",
   "metadata": {},
   "outputs": [],
   "source": [
    "X_train -= X_train.mean(axis=0)\n",
    "X_train /= X_train.std(axis=0)\n",
    "X_test -= X_test.mean(axis=0)\n",
    "X_test /= X_test.std(axis=0)"
   ]
  },
  {
   "cell_type": "code",
   "execution_count": 17,
   "id": "bac86ede",
   "metadata": {},
   "outputs": [
    {
     "name": "stdout",
     "output_type": "stream",
     "text": [
      "Model: \"sequential\"\n",
      "_________________________________________________________________\n",
      " Layer (type)                Output Shape              Param #   \n",
      "=================================================================\n",
      " dense (Dense)               (None, 11)                110       \n",
      "                                                                 \n",
      " dense_1 (Dense)             (None, 11)                132       \n",
      "                                                                 \n",
      " dense_2 (Dense)             (None, 1)                 12        \n",
      "                                                                 \n",
      "=================================================================\n",
      "Total params: 254\n",
      "Trainable params: 254\n",
      "Non-trainable params: 0\n",
      "_________________________________________________________________\n"
     ]
    }
   ],
   "source": [
    "model = Sequential()\n",
    "model.add(Dense(11,input_dim=X_train.shape[1],activation=\"relu\"))\n",
    "model.add(Dense(11,activation=\"relu\"))\n",
    "model.add(Dense(1,activation=\"sigmoid\"))\n",
    "model.summary()"
   ]
  },
  {
   "cell_type": "code",
   "execution_count": 18,
   "id": "f4864478",
   "metadata": {},
   "outputs": [],
   "source": [
    "model.compile(loss=\"binary_crossentropy\", optimizer=\"adam\",\n",
    "              metrics=[\"accuracy\"])"
   ]
  },
  {
   "cell_type": "code",
   "execution_count": 26,
   "id": "67326de2",
   "metadata": {},
   "outputs": [
    {
     "data": {
      "text/plain": [
       "<keras.callbacks.History at 0x1bb7ee71df0>"
      ]
     },
     "execution_count": 26,
     "metadata": {},
     "output_type": "execute_result"
    }
   ],
   "source": [
    "model.fit(X_train, Y_train, epochs=18, batch_size=10, verbose=0)\n"
   ]
  },
  {
   "cell_type": "markdown",
   "id": "cb933d48",
   "metadata": {},
   "source": [
    "### 評估模型"
   ]
  },
  {
   "cell_type": "code",
   "execution_count": 27,
   "id": "fb224d34",
   "metadata": {},
   "outputs": [
    {
     "name": "stdout",
     "output_type": "stream",
     "text": [
      "33/33 [==============================] - 0s 745us/step - loss: 0.3911 - accuracy: 0.8268\n",
      "訓練資料集的準確度 = 0.83\n",
      "9/9 [==============================] - 0s 2ms/step - loss: 0.4897 - accuracy: 0.7992\n",
      "測試資料集的準確度 = 0.80\n"
     ]
    }
   ],
   "source": [
    "loss, accuracy = model.evaluate(X_train, Y_train)\n",
    "print(\"訓練資料集的準確度 = {:.2f}\".format(accuracy))\n",
    "loss, accuracy = model.evaluate(X_test, Y_test)\n",
    "print(\"測試資料集的準確度 = {:.2f}\".format(accuracy))"
   ]
  },
  {
   "cell_type": "code",
   "execution_count": 28,
   "id": "fcc430c8",
   "metadata": {},
   "outputs": [
    {
     "name": "stdout",
     "output_type": "stream",
     "text": [
      "Saving Model: titanic.h5 ...\n"
     ]
    }
   ],
   "source": [
    "print(\"Saving Model: titanic.h5 ...\")\n",
    "model.save(\"titanic.h5\")"
   ]
  },
  {
   "cell_type": "code",
   "execution_count": null,
   "id": "6989d680",
   "metadata": {},
   "outputs": [],
   "source": []
  }
 ],
 "metadata": {
  "kernelspec": {
   "display_name": "Python 3 (ipykernel)",
   "language": "python",
   "name": "python3"
  },
  "language_info": {
   "codemirror_mode": {
    "name": "ipython",
    "version": 3
   },
   "file_extension": ".py",
   "mimetype": "text/x-python",
   "name": "python",
   "nbconvert_exporter": "python",
   "pygments_lexer": "ipython3",
   "version": "3.8.13"
  }
 },
 "nbformat": 4,
 "nbformat_minor": 5
}
