{
 "cells": [
  {
   "cell_type": "markdown",
   "id": "b87a9e25",
   "metadata": {},
   "source": [
    "# 鐵達尼號生存預測-1(資料預處理)"
   ]
  },
  {
   "cell_type": "code",
   "execution_count": 1,
   "id": "49d4aaef",
   "metadata": {},
   "outputs": [
    {
     "name": "stdout",
     "output_type": "stream",
     "text": [
      "(1309, 11)\n"
     ]
    }
   ],
   "source": [
    "import pandas as pd\n",
    "import numpy as np\n",
    "\n",
    "df = pd.read_csv(\"titanic_data.csv\")\n",
    "print(df.shape)"
   ]
  },
  {
   "cell_type": "code",
   "execution_count": 2,
   "id": "beae2f7d",
   "metadata": {},
   "outputs": [
    {
     "name": "stdout",
     "output_type": "stream",
     "text": [
      "   pclass  survived                                             name     sex  \\\n",
      "0       1         1                    Allen  Miss. Elisabeth Walton  female   \n",
      "1       1         1                   Allison  Master. Hudson Trevor    male   \n",
      "2       1         0                     Allison  Miss. Helen Loraine  female   \n",
      "3       1         0             Allison  Mr. Hudson Joshua Creighton    male   \n",
      "4       1         0  Allison  Mrs. Hudson J C (Bessie Waldo Daniels)  female   \n",
      "\n",
      "       age  sibsp  parch  ticket      fare    cabin embarked  \n",
      "0  29.0000      0      0   24160  211.3375       B5        S  \n",
      "1   0.9167      1      2  113781  151.5500  C22 C26        S  \n",
      "2   2.0000      1      2  113781  151.5500  C22 C26        S  \n",
      "3  30.0000      1      2  113781  151.5500  C22 C26        S  \n",
      "4  25.0000      1      2  113781  151.5500  C22 C26        S  \n"
     ]
    }
   ],
   "source": [
    "print(df.head())"
   ]
  },
  {
   "cell_type": "markdown",
   "id": "ebc15ebf",
   "metadata": {},
   "source": [
    "## 找出遺漏值"
   ]
  },
  {
   "cell_type": "code",
   "execution_count": 3,
   "id": "9b76f989",
   "metadata": {},
   "outputs": [
    {
     "name": "stdout",
     "output_type": "stream",
     "text": [
      "<class 'pandas.core.frame.DataFrame'>\n",
      "RangeIndex: 1309 entries, 0 to 1308\n",
      "Data columns (total 11 columns):\n",
      " #   Column    Non-Null Count  Dtype  \n",
      "---  ------    --------------  -----  \n",
      " 0   pclass    1309 non-null   int64  \n",
      " 1   survived  1309 non-null   int64  \n",
      " 2   name      1309 non-null   object \n",
      " 3   sex       1309 non-null   object \n",
      " 4   age       1046 non-null   float64\n",
      " 5   sibsp     1309 non-null   int64  \n",
      " 6   parch     1309 non-null   int64  \n",
      " 7   ticket    1309 non-null   object \n",
      " 8   fare      1308 non-null   float64\n",
      " 9   cabin     295 non-null    object \n",
      " 10  embarked  1307 non-null   object \n",
      "dtypes: float64(2), int64(4), object(5)\n",
      "memory usage: 112.6+ KB\n",
      "None\n"
     ]
    }
   ],
   "source": [
    "print(df.info())"
   ]
  },
  {
   "cell_type": "code",
   "execution_count": 4,
   "id": "d63a6ad5",
   "metadata": {},
   "outputs": [
    {
     "name": "stdout",
     "output_type": "stream",
     "text": [
      "pclass         0\n",
      "survived       0\n",
      "name           0\n",
      "sex            0\n",
      "age          263\n",
      "sibsp          0\n",
      "parch          0\n",
      "ticket         0\n",
      "fare           1\n",
      "cabin       1014\n",
      "embarked       2\n",
      "dtype: int64\n"
     ]
    }
   ],
   "source": [
    "print(df.isnull().sum())"
   ]
  },
  {
   "cell_type": "markdown",
   "id": "875383ab",
   "metadata": {},
   "source": [
    "## 資料預處理"
   ]
  },
  {
   "cell_type": "markdown",
   "id": "78e9bfd7",
   "metadata": {},
   "source": [
    "### 刪除不需要的欄位"
   ]
  },
  {
   "cell_type": "code",
   "execution_count": 5,
   "id": "2ab1c6ce",
   "metadata": {},
   "outputs": [],
   "source": [
    "df = df.drop([\"name\",\"ticket\",\"cabin\"],axis=1)"
   ]
  },
  {
   "cell_type": "markdown",
   "id": "4271dfdd",
   "metadata": {},
   "source": [
    "### 處理遺失資料"
   ]
  },
  {
   "cell_type": "code",
   "execution_count": 6,
   "id": "bbc087b4",
   "metadata": {},
   "outputs": [],
   "source": [
    "df[[\"age\"]] = df[[\"age\"]].fillna(value=df[[\"age\"]].mean())\n",
    "df[[\"fare\"]] = df[[\"fare\"]].fillna(value=df[[\"fare\"]].mean())"
   ]
  },
  {
   "cell_type": "code",
   "execution_count": 5,
   "id": "3d69ec4a",
   "metadata": {},
   "outputs": [
    {
     "name": "stdout",
     "output_type": "stream",
     "text": [
      "S    916\n",
      "C    270\n",
      "Q    123\n",
      "Name: embarked, dtype: int64\n",
      "S\n"
     ]
    }
   ],
   "source": [
    "df[[\"embarked\"]] = df[[\"embarked\"]].fillna(value=df[\"embarked\"].value_counts().idxmax())\n",
    "print(df[\"embarked\"].value_counts())\n",
    "print(df[\"embarked\"].value_counts().idxmax())"
   ]
  },
  {
   "cell_type": "markdown",
   "id": "3a5d3e43",
   "metadata": {},
   "source": [
    "### 轉換分類資料"
   ]
  },
  {
   "cell_type": "code",
   "execution_count": 6,
   "id": "21e1831a",
   "metadata": {},
   "outputs": [],
   "source": [
    "df[\"sex\"] = df[\"sex\"].map({\"female\":1,\"male\":0}).astype(int)"
   ]
  },
  {
   "cell_type": "markdown",
   "id": "ddf41fea",
   "metadata": {},
   "source": [
    "### embarked欄位進行one-hot encoding"
   ]
  },
  {
   "cell_type": "code",
   "execution_count": 7,
   "id": "3ab7ca5e",
   "metadata": {},
   "outputs": [],
   "source": [
    "embarked_one_hot = pd.get_dummies(df[\"embarked\"],prefix=\"embarked\")\n",
    "df = df.drop(\"embarked\",axis=1)\n",
    "df = df.join(embarked_one_hot)"
   ]
  },
  {
   "cell_type": "markdown",
   "id": "8a18aeba",
   "metadata": {},
   "source": [
    "### 將標籤資料的survived欄位移至最後"
   ]
  },
  {
   "cell_type": "code",
   "execution_count": 8,
   "id": "d6178cd4",
   "metadata": {},
   "outputs": [
    {
     "name": "stdout",
     "output_type": "stream",
     "text": [
      "   pclass                                             name  sex      age  \\\n",
      "0       1                    Allen  Miss. Elisabeth Walton    1  29.0000   \n",
      "1       1                   Allison  Master. Hudson Trevor    0   0.9167   \n",
      "2       1                     Allison  Miss. Helen Loraine    1   2.0000   \n",
      "3       1             Allison  Mr. Hudson Joshua Creighton    0  30.0000   \n",
      "4       1  Allison  Mrs. Hudson J C (Bessie Waldo Daniels)    1  25.0000   \n",
      "\n",
      "   sibsp  parch  ticket      fare    cabin  embarked_C  embarked_Q  \\\n",
      "0      0      0   24160  211.3375       B5           0           0   \n",
      "1      1      2  113781  151.5500  C22 C26           0           0   \n",
      "2      1      2  113781  151.5500  C22 C26           0           0   \n",
      "3      1      2  113781  151.5500  C22 C26           0           0   \n",
      "4      1      2  113781  151.5500  C22 C26           0           0   \n",
      "\n",
      "   embarked_S  survived  \n",
      "0           1         1  \n",
      "1           1         1  \n",
      "2           1         0  \n",
      "3           1         0  \n",
      "4           1         0  \n"
     ]
    }
   ],
   "source": [
    "df_survived = df.pop(\"survived\")\n",
    "df[\"survived\"] = df_survived\n",
    "print(df.head())"
   ]
  },
  {
   "cell_type": "markdown",
   "id": "c2808a85",
   "metadata": {},
   "source": [
    "### 分割成訓練資料集和測試資料集"
   ]
  },
  {
   "cell_type": "code",
   "execution_count": 9,
   "id": "c6c8ccac",
   "metadata": {},
   "outputs": [
    {
     "name": "stdout",
     "output_type": "stream",
     "text": [
      "Train: (1030, 13)\n",
      "Test: (279, 13)\n"
     ]
    }
   ],
   "source": [
    "mask = np.random.rand(len(df)) < 0.8\n",
    "df_train = df[mask]\n",
    "df_test = df[~mask]\n",
    "print(\"Train:\",df_train.shape)\n",
    "print(\"Test:\",df_test.shape)"
   ]
  },
  {
   "cell_type": "code",
   "execution_count": 10,
   "id": "f11eb64c",
   "metadata": {},
   "outputs": [],
   "source": [
    "df_train.to_csv(\"titanic_train.csv\",index=False)\n",
    "df_test.to_csv(\"titanic_test.csv\",index=False)"
   ]
  },
  {
   "cell_type": "code",
   "execution_count": null,
   "id": "b7b252c7",
   "metadata": {},
   "outputs": [],
   "source": []
  }
 ],
 "metadata": {
  "kernelspec": {
   "display_name": "Python 3 (ipykernel)",
   "language": "python",
   "name": "python3"
  },
  "language_info": {
   "codemirror_mode": {
    "name": "ipython",
    "version": 3
   },
   "file_extension": ".py",
   "mimetype": "text/x-python",
   "name": "python",
   "nbconvert_exporter": "python",
   "pygments_lexer": "ipython3",
   "version": "3.8.13"
  }
 },
 "nbformat": 4,
 "nbformat_minor": 5
}
